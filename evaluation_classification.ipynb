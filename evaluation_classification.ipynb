{
 "cells": [
  {
   "cell_type": "markdown",
   "id": "48139e9a-3f90-407d-8ae9-eb9a1911249d",
   "metadata": {},
   "source": [
    "## Evaluation of Classification Model\n"
   ]
  },
  {
   "cell_type": "markdown",
   "id": "474ea76b-82d8-4fe8-886f-40669baa9de2",
   "metadata": {},
   "source": [
    "### Problem of Classification without Evaluation"
   ]
  },
  {
   "cell_type": "code",
   "execution_count": 1,
   "id": "60f1b78a-905d-4503-9b3a-f229f8f933f8",
   "metadata": {},
   "outputs": [
    {
     "name": "stdout",
     "output_type": "stream",
     "text": [
      "Index(['PassengerId', 'Survived', 'Pclass', 'Name', 'Sex', 'Age', 'SibSp',\n",
      "       'Parch', 'Ticket', 'Fare', 'Cabin', 'Embarked'],\n",
      "      dtype='object')\n"
     ]
    }
   ],
   "source": [
    "import pandas as pd\n",
    "\n",
    "\n",
    "# read titanic data\n",
    "data = pd.read_csv(\"train.csv\")\n",
    "print(data.columns)"
   ]
  },
  {
   "cell_type": "code",
   "execution_count": 2,
   "id": "c19b9121-aa19-43a5-9f77-24c000641270",
   "metadata": {},
   "outputs": [
    {
     "name": "stdout",
     "output_type": "stream",
     "text": [
      "0.7877094972067039\n"
     ]
    }
   ],
   "source": [
    "import numpy as np\n",
    "from sklearn.base import BaseEstimator\n",
    "from sklearn.model_selection import train_test_split\n",
    "from sklearn.tree import DecisionTreeClassifier\n",
    "from sklearn.metrics import accuracy_score\n",
    "\n",
    "\n",
    "# create custom estimator\n",
    "class DummyClassifier(BaseEstimator):\n",
    "    def fit(self, X, y=None):\n",
    "        pass\n",
    "\n",
    "    def predict(self, X):\n",
    "        # create default list with row len(X.shape[0]) and column 1\n",
    "        pred = np.zeros( (X.shape[0], 1), dtype=\"int32\" )\n",
    "        for i in range(X.shape[0]):\n",
    "            pred[i] = 0 if X[\"Sex\"].iloc[i] == \"male\" else 1\n",
    "        \n",
    "        return np.array(pred)\n",
    "        \n",
    "# define feature and target\n",
    "Y_data = data[[\"Survived\"]]\n",
    "X_data = data.drop([\"Survived\"], axis=1)\n",
    "\n",
    "# split train and test split\n",
    "X_train, X_test, Y_train, Y_test = train_test_split(X_data, Y_data, test_size=0.2, random_state=0)\n",
    "\n",
    "model = DummyClassifier()\n",
    "model.fit(X_train, Y_train)\n",
    "pred = model.predict(X_test)\n",
    "score = accuracy_score(pred, Y_test)\n",
    "\n",
    "# accuracy: apprx 78%\n",
    "print(score)"
   ]
  },
  {
   "cell_type": "markdown",
   "id": "e55f71d0-5944-465a-a76e-f0da39a2eb62",
   "metadata": {},
   "source": [
    "- Simple Estimator can predict test set as 78%, so using accuracy_score is very dangerous.\n",
    "\n"
   ]
  },
  {
   "cell_type": "code",
   "execution_count": 3,
   "id": "37967fcb-ef2a-47b9-bc70-84ea6baa0487",
   "metadata": {},
   "outputs": [],
   "source": [
    "# problem demonstration with imbalanced dataset\n",
    "from sklearn.datasets import load_digits\n",
    "\n",
    "# read MNIST dataset\n",
    "# digits: <sklearn.utils._bunch.Bunch>\n",
    "digits = load_digits()"
   ]
  },
  {
   "cell_type": "code",
   "execution_count": 4,
   "id": "079a3504-ef13-4e12-bd72-1029b022b4f4",
   "metadata": {},
   "outputs": [
    {
     "name": "stdout",
     "output_type": "stream",
     "text": [
      "Size of Test Set: (450, 64)\n",
      "Distribution of Test Set\n",
      "0    405\n",
      "1     45\n",
      "Name: count, dtype: int64\n"
     ]
    }
   ],
   "source": [
    "# create custom estimator\n",
    "class DummyEstimator2(BaseEstimator):\n",
    "    def fit(self, X, Y=None):\n",
    "        pass\n",
    "\n",
    "    def predict(self, X):\n",
    "        return np.zeros( (len(X), 1), dtype=bool)\n",
    "        \n",
    "# y: create imbalance targets\n",
    "y = (digits.target==7).astype(int)\n",
    "X_train, X_test, Y_train, Y_test = train_test_split(digits.data, y, random_state=11)\n",
    "print(f\"Size of Test Set: {X_test.shape}\")\n",
    "print(f\"Distribution of Test Set\\n{pd.Series(Y_test).value_counts()}\")"
   ]
  },
  {
   "cell_type": "code",
   "execution_count": 5,
   "id": "8946adc2-1335-481e-ba6c-88b1c6a8d55a",
   "metadata": {},
   "outputs": [
    {
     "name": "stdout",
     "output_type": "stream",
     "text": [
      "Accuracy Score: 1.0\n"
     ]
    }
   ],
   "source": [
    "model = DummyEstimator2()\n",
    "model.fit(X_train, Y_train)\n",
    "pred = model.predict(X_test)\n",
    "print(f\"Accuracy Score: {np.round(accuracy_score(pred, Y_test))}\")"
   ]
  },
  {
   "cell_type": "markdown",
   "id": "2cb2dc9e-ca93-49ab-ad7e-5afde5737a1f",
   "metadata": {},
   "source": [
    "* Only accuracy metric can not be used to evaluate the result of prediction."
   ]
  },
  {
   "cell_type": "markdown",
   "id": "7b3497e1-b95c-498b-b0f2-f0b219d09724",
   "metadata": {},
   "source": [
    "### Confusion Matrix\n",
    "\n",
    "<table>\n",
    "    <tr>\n",
    "        <td></td>\n",
    "        <td>Predicted as Negative(0)</td>\n",
    "        <td>Predicted as Positive(1)</td>\n",
    "    </tr>\n",
    "    <tr>\n",
    "        <td>Real as Negative(0)</td>\n",
    "        <td>True Negative:\n",
    "Right Prediction to Negative</td>\n",
    "        <td>False Positive:\n",
    "False Prediction to Negative</td>\n",
    "    </tr>\n",
    "    <tr>\n",
    "        <td>Real as Positive(1)</td>\n",
    "        <td>False Negative:\n",
    "False Prediction to Positive</td>\n",
    "        <td>True Positive:\n",
    "True Prediction to Positive</td>\n",
    "    </tr>\n",
    "</table>\n",
    "\n",
    "* accuracy  = (TP + FN) / (TP + FP + FN + TN)\n",
    "* precision = TP / (FP + TP)\n",
    "* recall = TP / (FN + TP)"
   ]
  },
  {
   "cell_type": "code",
   "execution_count": null,
   "id": "d67816c7-c0a4-482f-a923-8907a2042235",
   "metadata": {},
   "outputs": [],
   "source": []
  }
 ],
 "metadata": {
  "kernelspec": {
   "display_name": "Python 3 (ipykernel)",
   "language": "python",
   "name": "python3"
  },
  "language_info": {
   "codemirror_mode": {
    "name": "ipython",
    "version": 3
   },
   "file_extension": ".py",
   "mimetype": "text/x-python",
   "name": "python",
   "nbconvert_exporter": "python",
   "pygments_lexer": "ipython3",
   "version": "3.12.7"
  }
 },
 "nbformat": 4,
 "nbformat_minor": 5
}
