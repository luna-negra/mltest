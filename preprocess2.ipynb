{
 "cells": [
  {
   "cell_type": "code",
   "execution_count": 1,
   "id": "ba245b9e-a6fa-4963-a8aa-93cbbd88167d",
   "metadata": {},
   "outputs": [],
   "source": [
    "import pandas as pd\n",
    "from matplotlib import pyplot as plt\n",
    "from os import listdir\n",
    "\n",
    "# Set the path for data file\n",
    "DATA_PATH: str = \"data/2ch/\"\n",
    "\n",
    "# read files\n",
    "dump = pd.read_csv(DATA_PATH + \"dump_data.csv\")\n",
    "uriage = pd.read_csv(DATA_PATH + \"uriage.csv\")\n",
    "kokyaku = pd.read_excel(DATA_PATH + \"kokyaku_daicho.xlsx\")"
   ]
  },
  {
   "cell_type": "code",
   "execution_count": 2,
   "id": "3ac28964-64ce-4c3c-9690-f5852a1edfa6",
   "metadata": {},
   "outputs": [
    {
     "data": {
      "text/html": [
       "<div>\n",
       "<style scoped>\n",
       "    .dataframe tbody tr th:only-of-type {\n",
       "        vertical-align: middle;\n",
       "    }\n",
       "\n",
       "    .dataframe tbody tr th {\n",
       "        vertical-align: top;\n",
       "    }\n",
       "\n",
       "    .dataframe thead th {\n",
       "        text-align: right;\n",
       "    }\n",
       "</style>\n",
       "<table border=\"1\" class=\"dataframe\">\n",
       "  <thead>\n",
       "    <tr style=\"text-align: right;\">\n",
       "      <th></th>\n",
       "      <th>purchase_date</th>\n",
       "      <th>purchase_month</th>\n",
       "      <th>item_name</th>\n",
       "      <th>item_price</th>\n",
       "      <th>고객이름</th>\n",
       "      <th>지역</th>\n",
       "      <th>등록일</th>\n",
       "    </tr>\n",
       "  </thead>\n",
       "  <tbody>\n",
       "    <tr>\n",
       "      <th>0</th>\n",
       "      <td>2019-06-13 18:02:00</td>\n",
       "      <td>201906</td>\n",
       "      <td>상품A</td>\n",
       "      <td>100.0</td>\n",
       "      <td>김가온</td>\n",
       "      <td>C시</td>\n",
       "      <td>2017-01-26 00:00:00</td>\n",
       "    </tr>\n",
       "    <tr>\n",
       "      <th>1</th>\n",
       "      <td>2019-07-13 13:05:00</td>\n",
       "      <td>201907</td>\n",
       "      <td>상품S</td>\n",
       "      <td>1900.0</td>\n",
       "      <td>김우찬</td>\n",
       "      <td>C시</td>\n",
       "      <td>2018-04-07 00:00:00</td>\n",
       "    </tr>\n",
       "    <tr>\n",
       "      <th>2</th>\n",
       "      <td>2019-05-11 19:42:00</td>\n",
       "      <td>201905</td>\n",
       "      <td>상품A</td>\n",
       "      <td>100.0</td>\n",
       "      <td>김유찬</td>\n",
       "      <td>A시</td>\n",
       "      <td>2018-06-19 00:00:00</td>\n",
       "    </tr>\n",
       "    <tr>\n",
       "      <th>3</th>\n",
       "      <td>2019-02-12 23:40:00</td>\n",
       "      <td>201902</td>\n",
       "      <td>상품Z</td>\n",
       "      <td>2600.0</td>\n",
       "      <td>김재현</td>\n",
       "      <td>D시</td>\n",
       "      <td>2018-07-22 00:00:00</td>\n",
       "    </tr>\n",
       "    <tr>\n",
       "      <th>4</th>\n",
       "      <td>2019-04-22 03:09:00</td>\n",
       "      <td>201904</td>\n",
       "      <td>상품A</td>\n",
       "      <td>100.0</td>\n",
       "      <td>김강현</td>\n",
       "      <td>D시</td>\n",
       "      <td>2017-06-07 00:00:00</td>\n",
       "    </tr>\n",
       "  </tbody>\n",
       "</table>\n",
       "</div>"
      ],
      "text/plain": [
       "         purchase_date  purchase_month item_name  item_price 고객이름  지역  \\\n",
       "0  2019-06-13 18:02:00          201906       상품A       100.0  김가온  C시   \n",
       "1  2019-07-13 13:05:00          201907       상품S      1900.0  김우찬  C시   \n",
       "2  2019-05-11 19:42:00          201905       상품A       100.0  김유찬  A시   \n",
       "3  2019-02-12 23:40:00          201902       상품Z      2600.0  김재현  D시   \n",
       "4  2019-04-22 03:09:00          201904       상품A       100.0  김강현  D시   \n",
       "\n",
       "                   등록일  \n",
       "0  2017-01-26 00:00:00  \n",
       "1  2018-04-07 00:00:00  \n",
       "2  2018-06-19 00:00:00  \n",
       "3  2018-07-22 00:00:00  \n",
       "4  2017-06-07 00:00:00  "
      ]
     },
     "execution_count": 2,
     "metadata": {},
     "output_type": "execute_result"
    }
   ],
   "source": [
    "dump.head()"
   ]
  },
  {
   "cell_type": "code",
   "execution_count": 3,
   "id": "e0e9df56-6d5e-4031-b095-37e35664a889",
   "metadata": {},
   "outputs": [
    {
     "data": {
      "text/html": [
       "<div>\n",
       "<style scoped>\n",
       "    .dataframe tbody tr th:only-of-type {\n",
       "        vertical-align: middle;\n",
       "    }\n",
       "\n",
       "    .dataframe tbody tr th {\n",
       "        vertical-align: top;\n",
       "    }\n",
       "\n",
       "    .dataframe thead th {\n",
       "        text-align: right;\n",
       "    }\n",
       "</style>\n",
       "<table border=\"1\" class=\"dataframe\">\n",
       "  <thead>\n",
       "    <tr style=\"text-align: right;\">\n",
       "      <th></th>\n",
       "      <th>purchase_date</th>\n",
       "      <th>item_name</th>\n",
       "      <th>item_price</th>\n",
       "      <th>customer_name</th>\n",
       "    </tr>\n",
       "  </thead>\n",
       "  <tbody>\n",
       "    <tr>\n",
       "      <th>0</th>\n",
       "      <td>2019-06-13 18:02</td>\n",
       "      <td>상품A</td>\n",
       "      <td>100.0</td>\n",
       "      <td>김가온</td>\n",
       "    </tr>\n",
       "    <tr>\n",
       "      <th>1</th>\n",
       "      <td>2019-07-13 13:05</td>\n",
       "      <td>상 품 S</td>\n",
       "      <td>NaN</td>\n",
       "      <td>김우찬</td>\n",
       "    </tr>\n",
       "    <tr>\n",
       "      <th>2</th>\n",
       "      <td>2019-05-11 19:42</td>\n",
       "      <td>상 품 a</td>\n",
       "      <td>NaN</td>\n",
       "      <td>김유찬</td>\n",
       "    </tr>\n",
       "    <tr>\n",
       "      <th>3</th>\n",
       "      <td>2019-02-12 23:40</td>\n",
       "      <td>상품Z</td>\n",
       "      <td>2600.0</td>\n",
       "      <td>김재현</td>\n",
       "    </tr>\n",
       "    <tr>\n",
       "      <th>4</th>\n",
       "      <td>2019-04-22 3:09</td>\n",
       "      <td>상품a</td>\n",
       "      <td>NaN</td>\n",
       "      <td>김강현</td>\n",
       "    </tr>\n",
       "  </tbody>\n",
       "</table>\n",
       "</div>"
      ],
      "text/plain": [
       "      purchase_date item_name  item_price customer_name\n",
       "0  2019-06-13 18:02       상품A       100.0           김가온\n",
       "1  2019-07-13 13:05     상 품 S         NaN           김우찬\n",
       "2  2019-05-11 19:42     상 품 a         NaN           김유찬\n",
       "3  2019-02-12 23:40       상품Z      2600.0           김재현\n",
       "4   2019-04-22 3:09       상품a         NaN           김강현"
      ]
     },
     "execution_count": 3,
     "metadata": {},
     "output_type": "execute_result"
    }
   ],
   "source": [
    "uriage.head()"
   ]
  },
  {
   "cell_type": "code",
   "execution_count": 4,
   "id": "1dd6e39d-f10d-4d14-84d7-0851e1ce529c",
   "metadata": {},
   "outputs": [
    {
     "data": {
      "text/html": [
       "<div>\n",
       "<style scoped>\n",
       "    .dataframe tbody tr th:only-of-type {\n",
       "        vertical-align: middle;\n",
       "    }\n",
       "\n",
       "    .dataframe tbody tr th {\n",
       "        vertical-align: top;\n",
       "    }\n",
       "\n",
       "    .dataframe thead th {\n",
       "        text-align: right;\n",
       "    }\n",
       "</style>\n",
       "<table border=\"1\" class=\"dataframe\">\n",
       "  <thead>\n",
       "    <tr style=\"text-align: right;\">\n",
       "      <th></th>\n",
       "      <th>고객이름</th>\n",
       "      <th>지역</th>\n",
       "      <th>등록일</th>\n",
       "    </tr>\n",
       "  </thead>\n",
       "  <tbody>\n",
       "    <tr>\n",
       "      <th>0</th>\n",
       "      <td>김 현성</td>\n",
       "      <td>H시</td>\n",
       "      <td>2018-01-04 00:00:00</td>\n",
       "    </tr>\n",
       "    <tr>\n",
       "      <th>1</th>\n",
       "      <td>김 도윤</td>\n",
       "      <td>E시</td>\n",
       "      <td>42782</td>\n",
       "    </tr>\n",
       "    <tr>\n",
       "      <th>2</th>\n",
       "      <td>김 지한</td>\n",
       "      <td>A시</td>\n",
       "      <td>2018-01-07 00:00:00</td>\n",
       "    </tr>\n",
       "    <tr>\n",
       "      <th>3</th>\n",
       "      <td>김 하윤</td>\n",
       "      <td>F시</td>\n",
       "      <td>42872</td>\n",
       "    </tr>\n",
       "    <tr>\n",
       "      <th>4</th>\n",
       "      <td>김 시온</td>\n",
       "      <td>E시</td>\n",
       "      <td>43127</td>\n",
       "    </tr>\n",
       "  </tbody>\n",
       "</table>\n",
       "</div>"
      ],
      "text/plain": [
       "   고객이름  지역                  등록일\n",
       "0  김 현성  H시  2018-01-04 00:00:00\n",
       "1  김 도윤  E시                42782\n",
       "2  김 지한  A시  2018-01-07 00:00:00\n",
       "3  김 하윤  F시                42872\n",
       "4  김 시온  E시                43127"
      ]
     },
     "execution_count": 4,
     "metadata": {},
     "output_type": "execute_result"
    }
   ],
   "source": [
    "kokyaku.head()"
   ]
  },
  {
   "cell_type": "code",
   "execution_count": 5,
   "id": "5ccf9ea2-74a7-4473-9061-1958fb47d911",
   "metadata": {},
   "outputs": [
    {
     "name": "stdout",
     "output_type": "stream",
     "text": [
      "(7, 99)\n"
     ]
    }
   ],
   "source": [
    "uriage[\"purchase_date\"] = pd.to_datetime(uriage[\"purchase_date\"])\n",
    "uriage[\"purchase_month\"] = uriage[\"purchase_date\"].dt.strftime(\"%Y%m\")\n",
    "pt = uriage.pivot_table(index=\"purchase_month\", columns=\"item_name\", aggfunc=\"size\", fill_value=0)\n",
    "print(pt.shape)\n"
   ]
  },
  {
   "cell_type": "code",
   "execution_count": 6,
   "id": "b40b2171-cd15-4972-b4b5-b8d04445f2cb",
   "metadata": {},
   "outputs": [
    {
     "data": {
      "text/plain": [
       "array(['상품A', '상품S', '상품Z', '상품V', '상품O', '상품U', '상품L', '상품C', '상품I',\n",
       "       '상품R', '상품X', '상품G', '상품P', '상품Q', '상품Y', '상품N', '상품W', '상품E',\n",
       "       '상품K', '상품B', '상품F', '상품D', '상품M', '상품H', '상품T', '상품J'],\n",
       "      dtype=object)"
      ]
     },
     "execution_count": 6,
     "metadata": {},
     "output_type": "execute_result"
    }
   ],
   "source": [
    "dump[\"item_name\"].unique()"
   ]
  },
  {
   "cell_type": "code",
   "execution_count": 7,
   "id": "a3775691-0163-47e9-9246-53ebbd8475b0",
   "metadata": {},
   "outputs": [
    {
     "data": {
      "text/plain": [
       "array(['상품A', '상 품 S', '상 품 a', '상품Z', '상품a', '상품S', '상품 a', '상품V', '상품O',\n",
       "       '상 품U', '상품L', '상  품V', '상 품O', '상품C', '상품I', '상품r', '상품X', '상품 g',\n",
       "       '상품R', '상품P', '상품Q', '상품y', '상품 A', '상품N', '상품W', '상 품E', '상품K',\n",
       "       '상품B', '상품F', '상 품s', ' 상품W', ' 상 품 n', '상 품F', '상품D', '상품M',\n",
       "       '상품Y', '상품U', '상품H', '상품T', '상품J', '상  품O', '상품E', '상  품Q',\n",
       "       ' 상품 S', ' 상품 M', '상  품T', '상품G', '상 품G', ' 상품 P', ' 상품 E', '상 품N',\n",
       "       '상 품Y', '상품 J', '상품 V', '상품 K', '상 품V', '상 품D', '상 품A', '상품 F',\n",
       "       '상품 H', '상 품K', '상 품T', '상품 X', '상품 Q', '상 품X', '상 품H', '상 품C',\n",
       "       '상품 B', '상품 O', '상품 T', '상품v', '상품p', '상품i', '상품 w', '상 품 s',\n",
       "       '상 품 q', '상품s', '상품l', '상품t', '상품k', '상품g', '상품o', '상품 R', '상품 S',\n",
       "       '상 품M', '상품j', '상품d', '상품 I', '상품 E', '상품 o', '상품c', '상품 v', '상품e',\n",
       "       '상품x', '상 품I', ' 상품 W', ' 상품 X', '상품 M', '상 품P'], dtype=object)"
      ]
     },
     "execution_count": 7,
     "metadata": {},
     "output_type": "execute_result"
    }
   ],
   "source": [
    "uriage[\"item_name\"].unique()"
   ]
  },
  {
   "cell_type": "code",
   "execution_count": 8,
   "id": "8a862db9-7cc6-4457-9b55-28edae46fdfb",
   "metadata": {},
   "outputs": [
    {
     "data": {
      "text/plain": [
       "array(['상품A', '상품S', '상품Z', '상품V', '상품O', '상품U', '상품L', '상품C', '상품I',\n",
       "       '상품R', '상품X', '상품G', '상품P', '상품Q', '상품Y', '상품N', '상품W', '상품E',\n",
       "       '상품K', '상품B', '상품F', '상품D', '상품M', '상품H', '상품T', '상품J'],\n",
       "      dtype=object)"
      ]
     },
     "execution_count": 8,
     "metadata": {},
     "output_type": "execute_result"
    }
   ],
   "source": [
    "uriage[\"item_name\"] = uriage[\"item_name\"].str.replace(\" \", \"\").str.upper()\n",
    "uriage[\"item_name\"].unique()"
   ]
  },
  {
   "cell_type": "code",
   "execution_count": 9,
   "id": "1de847a2-e0f2-4d11-99b9-9ca75b69100a",
   "metadata": {},
   "outputs": [
    {
     "data": {
      "text/plain": [
       "purchase_date     False\n",
       "item_name         False\n",
       "item_price         True\n",
       "customer_name     False\n",
       "purchase_month    False\n",
       "dtype: bool"
      ]
     },
     "execution_count": 9,
     "metadata": {},
     "output_type": "execute_result"
    }
   ],
   "source": [
    "uriage.isnull().any(axis=0)"
   ]
  },
  {
   "cell_type": "code",
   "execution_count": 10,
   "id": "a7bcd47b-bc08-4252-a164-018af000b419",
   "metadata": {},
   "outputs": [
    {
     "data": {
      "text/html": [
       "<div>\n",
       "<style scoped>\n",
       "    .dataframe tbody tr th:only-of-type {\n",
       "        vertical-align: middle;\n",
       "    }\n",
       "\n",
       "    .dataframe tbody tr th {\n",
       "        vertical-align: top;\n",
       "    }\n",
       "\n",
       "    .dataframe thead th {\n",
       "        text-align: right;\n",
       "    }\n",
       "</style>\n",
       "<table border=\"1\" class=\"dataframe\">\n",
       "  <thead>\n",
       "    <tr style=\"text-align: right;\">\n",
       "      <th></th>\n",
       "      <th>purchase_date</th>\n",
       "      <th>item_name</th>\n",
       "      <th>item_price</th>\n",
       "      <th>customer_name</th>\n",
       "      <th>purchase_month</th>\n",
       "    </tr>\n",
       "  </thead>\n",
       "  <tbody>\n",
       "    <tr>\n",
       "      <th>0</th>\n",
       "      <td>2019-06-13 18:02:00</td>\n",
       "      <td>상품A</td>\n",
       "      <td>100.0</td>\n",
       "      <td>김가온</td>\n",
       "      <td>201906</td>\n",
       "    </tr>\n",
       "    <tr>\n",
       "      <th>1</th>\n",
       "      <td>2019-07-13 13:05:00</td>\n",
       "      <td>상품S</td>\n",
       "      <td>1900.0</td>\n",
       "      <td>김우찬</td>\n",
       "      <td>201907</td>\n",
       "    </tr>\n",
       "    <tr>\n",
       "      <th>2</th>\n",
       "      <td>2019-05-11 19:42:00</td>\n",
       "      <td>상품A</td>\n",
       "      <td>100.0</td>\n",
       "      <td>김유찬</td>\n",
       "      <td>201905</td>\n",
       "    </tr>\n",
       "    <tr>\n",
       "      <th>3</th>\n",
       "      <td>2019-02-12 23:40:00</td>\n",
       "      <td>상품Z</td>\n",
       "      <td>2600.0</td>\n",
       "      <td>김재현</td>\n",
       "      <td>201902</td>\n",
       "    </tr>\n",
       "    <tr>\n",
       "      <th>4</th>\n",
       "      <td>2019-04-22 03:09:00</td>\n",
       "      <td>상품A</td>\n",
       "      <td>100.0</td>\n",
       "      <td>김강현</td>\n",
       "      <td>201904</td>\n",
       "    </tr>\n",
       "    <tr>\n",
       "      <th>...</th>\n",
       "      <td>...</td>\n",
       "      <td>...</td>\n",
       "      <td>...</td>\n",
       "      <td>...</td>\n",
       "      <td>...</td>\n",
       "    </tr>\n",
       "    <tr>\n",
       "      <th>2994</th>\n",
       "      <td>2019-02-15 02:56:00</td>\n",
       "      <td>상품Y</td>\n",
       "      <td>2500.0</td>\n",
       "      <td>김정민</td>\n",
       "      <td>201902</td>\n",
       "    </tr>\n",
       "    <tr>\n",
       "      <th>2995</th>\n",
       "      <td>2019-06-22 04:03:00</td>\n",
       "      <td>상품M</td>\n",
       "      <td>1300.0</td>\n",
       "      <td>김재원</td>\n",
       "      <td>201906</td>\n",
       "    </tr>\n",
       "    <tr>\n",
       "      <th>2996</th>\n",
       "      <td>2019-03-29 11:14:00</td>\n",
       "      <td>상품Q</td>\n",
       "      <td>1700.0</td>\n",
       "      <td>김지율</td>\n",
       "      <td>201903</td>\n",
       "    </tr>\n",
       "    <tr>\n",
       "      <th>2997</th>\n",
       "      <td>2019-07-14 12:56:00</td>\n",
       "      <td>상품H</td>\n",
       "      <td>800.0</td>\n",
       "      <td>김승주</td>\n",
       "      <td>201907</td>\n",
       "    </tr>\n",
       "    <tr>\n",
       "      <th>2998</th>\n",
       "      <td>2019-07-21 00:31:00</td>\n",
       "      <td>상품D</td>\n",
       "      <td>400.0</td>\n",
       "      <td>정준기</td>\n",
       "      <td>201907</td>\n",
       "    </tr>\n",
       "  </tbody>\n",
       "</table>\n",
       "<p>2999 rows × 5 columns</p>\n",
       "</div>"
      ],
      "text/plain": [
       "           purchase_date item_name  item_price customer_name purchase_month\n",
       "0    2019-06-13 18:02:00       상품A       100.0           김가온         201906\n",
       "1    2019-07-13 13:05:00       상품S      1900.0           김우찬         201907\n",
       "2    2019-05-11 19:42:00       상품A       100.0           김유찬         201905\n",
       "3    2019-02-12 23:40:00       상품Z      2600.0           김재현         201902\n",
       "4    2019-04-22 03:09:00       상품A       100.0           김강현         201904\n",
       "...                  ...       ...         ...           ...            ...\n",
       "2994 2019-02-15 02:56:00       상품Y      2500.0           김정민         201902\n",
       "2995 2019-06-22 04:03:00       상품M      1300.0           김재원         201906\n",
       "2996 2019-03-29 11:14:00       상품Q      1700.0           김지율         201903\n",
       "2997 2019-07-14 12:56:00       상품H       800.0           김승주         201907\n",
       "2998 2019-07-21 00:31:00       상품D       400.0           정준기         201907\n",
       "\n",
       "[2999 rows x 5 columns]"
      ]
     },
     "execution_count": 10,
     "metadata": {},
     "output_type": "execute_result"
    }
   ],
   "source": [
    "for name in list(uriage[\"item_name\"].unique()):\n",
    "    price:float = uriage.loc[uriage[\"item_name\"] == name, \"item_price\"].max()\n",
    "    uriage.loc[uriage[\"item_price\"].isnull() & (uriage[\"item_name\"] == name), \"item_price\"] = price\n",
    "\n",
    "uriage"
   ]
  },
  {
   "cell_type": "code",
   "execution_count": 11,
   "id": "e1792d53-51c4-477c-9576-56aac41b8ed5",
   "metadata": {},
   "outputs": [
    {
     "data": {
      "text/html": [
       "<div>\n",
       "<style scoped>\n",
       "    .dataframe tbody tr th:only-of-type {\n",
       "        vertical-align: middle;\n",
       "    }\n",
       "\n",
       "    .dataframe tbody tr th {\n",
       "        vertical-align: top;\n",
       "    }\n",
       "\n",
       "    .dataframe thead th {\n",
       "        text-align: right;\n",
       "    }\n",
       "</style>\n",
       "<table border=\"1\" class=\"dataframe\">\n",
       "  <thead>\n",
       "    <tr style=\"text-align: right;\">\n",
       "      <th></th>\n",
       "      <th>purchase_date</th>\n",
       "      <th>item_name</th>\n",
       "      <th>item_price</th>\n",
       "      <th>customer_name</th>\n",
       "      <th>purchase_month</th>\n",
       "    </tr>\n",
       "  </thead>\n",
       "  <tbody>\n",
       "    <tr>\n",
       "      <th>0</th>\n",
       "      <td>2019-06-13 18:02:00</td>\n",
       "      <td>상품A</td>\n",
       "      <td>100.0</td>\n",
       "      <td>김가온</td>\n",
       "      <td>201906</td>\n",
       "    </tr>\n",
       "    <tr>\n",
       "      <th>1</th>\n",
       "      <td>2019-07-13 13:05:00</td>\n",
       "      <td>상품S</td>\n",
       "      <td>1900.0</td>\n",
       "      <td>김우찬</td>\n",
       "      <td>201907</td>\n",
       "    </tr>\n",
       "    <tr>\n",
       "      <th>2</th>\n",
       "      <td>2019-05-11 19:42:00</td>\n",
       "      <td>상품A</td>\n",
       "      <td>100.0</td>\n",
       "      <td>김유찬</td>\n",
       "      <td>201905</td>\n",
       "    </tr>\n",
       "    <tr>\n",
       "      <th>3</th>\n",
       "      <td>2019-02-12 23:40:00</td>\n",
       "      <td>상품Z</td>\n",
       "      <td>2600.0</td>\n",
       "      <td>김재현</td>\n",
       "      <td>201902</td>\n",
       "    </tr>\n",
       "    <tr>\n",
       "      <th>4</th>\n",
       "      <td>2019-04-22 03:09:00</td>\n",
       "      <td>상품A</td>\n",
       "      <td>100.0</td>\n",
       "      <td>김강현</td>\n",
       "      <td>201904</td>\n",
       "    </tr>\n",
       "    <tr>\n",
       "      <th>...</th>\n",
       "      <td>...</td>\n",
       "      <td>...</td>\n",
       "      <td>...</td>\n",
       "      <td>...</td>\n",
       "      <td>...</td>\n",
       "    </tr>\n",
       "    <tr>\n",
       "      <th>2994</th>\n",
       "      <td>2019-02-15 02:56:00</td>\n",
       "      <td>상품Y</td>\n",
       "      <td>2500.0</td>\n",
       "      <td>김정민</td>\n",
       "      <td>201902</td>\n",
       "    </tr>\n",
       "    <tr>\n",
       "      <th>2995</th>\n",
       "      <td>2019-06-22 04:03:00</td>\n",
       "      <td>상품M</td>\n",
       "      <td>1300.0</td>\n",
       "      <td>김재원</td>\n",
       "      <td>201906</td>\n",
       "    </tr>\n",
       "    <tr>\n",
       "      <th>2996</th>\n",
       "      <td>2019-03-29 11:14:00</td>\n",
       "      <td>상품Q</td>\n",
       "      <td>1700.0</td>\n",
       "      <td>김지율</td>\n",
       "      <td>201903</td>\n",
       "    </tr>\n",
       "    <tr>\n",
       "      <th>2997</th>\n",
       "      <td>2019-07-14 12:56:00</td>\n",
       "      <td>상품H</td>\n",
       "      <td>800.0</td>\n",
       "      <td>김승주</td>\n",
       "      <td>201907</td>\n",
       "    </tr>\n",
       "    <tr>\n",
       "      <th>2998</th>\n",
       "      <td>2019-07-21 00:31:00</td>\n",
       "      <td>상품D</td>\n",
       "      <td>400.0</td>\n",
       "      <td>정준기</td>\n",
       "      <td>201907</td>\n",
       "    </tr>\n",
       "  </tbody>\n",
       "</table>\n",
       "<p>2999 rows × 5 columns</p>\n",
       "</div>"
      ],
      "text/plain": [
       "           purchase_date item_name  item_price customer_name purchase_month\n",
       "0    2019-06-13 18:02:00       상품A       100.0           김가온         201906\n",
       "1    2019-07-13 13:05:00       상품S      1900.0           김우찬         201907\n",
       "2    2019-05-11 19:42:00       상품A       100.0           김유찬         201905\n",
       "3    2019-02-12 23:40:00       상품Z      2600.0           김재현         201902\n",
       "4    2019-04-22 03:09:00       상품A       100.0           김강현         201904\n",
       "...                  ...       ...         ...           ...            ...\n",
       "2994 2019-02-15 02:56:00       상품Y      2500.0           김정민         201902\n",
       "2995 2019-06-22 04:03:00       상품M      1300.0           김재원         201906\n",
       "2996 2019-03-29 11:14:00       상품Q      1700.0           김지율         201903\n",
       "2997 2019-07-14 12:56:00       상품H       800.0           김승주         201907\n",
       "2998 2019-07-21 00:31:00       상품D       400.0           정준기         201907\n",
       "\n",
       "[2999 rows x 5 columns]"
      ]
     },
     "execution_count": 11,
     "metadata": {},
     "output_type": "execute_result"
    }
   ],
   "source": [
    "uriage"
   ]
  },
  {
   "cell_type": "code",
   "execution_count": 12,
   "id": "a05429c8-6bff-4f12-8267-339d3238e546",
   "metadata": {},
   "outputs": [
    {
     "data": {
      "text/plain": [
       "purchase_date     False\n",
       "item_name         False\n",
       "item_price        False\n",
       "customer_name     False\n",
       "purchase_month    False\n",
       "dtype: bool"
      ]
     },
     "execution_count": 12,
     "metadata": {},
     "output_type": "execute_result"
    }
   ],
   "source": [
    "uriage.isnull().any(axis=0)"
   ]
  },
  {
   "cell_type": "code",
   "execution_count": 13,
   "id": "4e4a829a-b9c6-40f7-8938-655c38a85ed5",
   "metadata": {},
   "outputs": [
    {
     "data": {
      "text/plain": [
       "array(['김 현성', '김 도윤', '김 지한', '김 하윤', '김 시온', '김 예성', '김 하람', '김 호준',\n",
       "       '김 지완', '김 주호', '김 재원', '김 승민', '김 준형', '김 동건', '김 준서', '김 수혁',\n",
       "       '김 진우', '김 윤호', '김 윤서', '김 준희', '김 윤우', '김 동우', '김 성빈', '김 태준',\n",
       "       '김 태경', '김 승후', '김 현우', '김 서준', '김 주원', '김 태인', '김 승준', '김 윤재',\n",
       "       '김 수민', '김 승훈', '김 하준', '김 하율', '김 우찬', '김 준성', '김 준혁', '김 승찬',\n",
       "       '김 현승', '김 지운', '김 성민', '김 지호', '김 우준', '김 승빈', '김 재민', '김 태민',\n",
       "       '김 주혁', '김 정원', '김 하랑', '김 지우', '김 예준', '김 주영', '김 민석', '김 유빈',\n",
       "       '김 시훈', '김 동현', '김 라온', '김 은우', '김 민재', '김 준후', '김 현서', '김 서후',\n",
       "       '김 재현', '김 유준', '김 찬우', '김 도현', '김 상민', '김 재영', '김 하진', '김 범준',\n",
       "       '김 우진', '김 지훈', '김 시윤', '김 강민', '김 지성', '김 윤찬', '김 민호', '김 윤성',\n",
       "       '김 지후', '김 현진', '김 태양', '김 대현', '김 재준', '김 민건', '김 도경', '김 지민',\n",
       "       '김 은호', '김 민혁', '김 민찬', '김 승원', '김 정현', '김 승유', '김 세현', '김 승윤',\n",
       "       '김 이준', '김 경민', '김 정훈', '김 성우', '김 은율', '김 도훈', '김 태현', '김 주안',\n",
       "       '김 동욱', '김 재훈', '김 도율', '김 예찬', '김 태훈', '김 준석', '김 원준', '김 민준',\n",
       "       '김 은찬', '김 영준', '김 주한', '김 현수', '김 건희', '김 규민', '김 재혁', '김 승재',\n",
       "       '김 정후', '김 성현', '정 영훈', '김 민우', '김 주환', '김 준호', '김 준우', '김 시율',\n",
       "       '김 도하', '김 규현', '김 주현', '김 정민', '김 건우', '정 도형', '김 연준', '김 강현',\n",
       "       '김 태우', '김 지율', '김 지용', '김 지오', '김 수호', '김 가온', '김 유찬', '김 상현',\n",
       "       '김 시완', '김 도원', '김 시우', '김 은성', '김 성윤', '김 우빈', '김 준수', '김 연호',\n",
       "       '정 우석', '김 민규', '김 태영', '김 은혁', '김 준영', '김 지환', '김 서진', '김 서윤',\n",
       "       '김 하민', '김 현준', '김 승현', '김 우영', '김 재윤', '김 한결', '김 우주', '김 지혁',\n",
       "       '김 민서', '김 찬영', '김 시환', '김 수현', '김 서율', '정 준기', '김 성훈', '김 시호',\n",
       "       '김 재호', '김 재우', '김 동하', '김 우현', '김 민기', '김 승환', '김 다온', '김 승우',\n",
       "       '김 성준', '김 승호', '김 승주', '김 태윤', '김 민수', '김 현민', '김 유진', '김 지안',\n",
       "       '김 현석', '김 선우', '김 지원', '김 재희', '김 도영', '김 이안', '김 시현', '김 서우'],\n",
       "      dtype=object)"
      ]
     },
     "execution_count": 13,
     "metadata": {},
     "output_type": "execute_result"
    }
   ],
   "source": [
    "kokyaku[\"고객이름\"].unique()"
   ]
  },
  {
   "cell_type": "code",
   "execution_count": 14,
   "id": "ada8b84c-dd6a-4058-b068-52ba739f8eb8",
   "metadata": {},
   "outputs": [
    {
     "name": "stdout",
     "output_type": "stream",
     "text": [
      "199\n"
     ]
    }
   ],
   "source": [
    "uriage[\"customer_name\"].unique()\n",
    "print(uriage[\"customer_name\"].unique().size)"
   ]
  },
  {
   "cell_type": "code",
   "execution_count": 15,
   "id": "d8a0f42a-4c6a-4cee-b6bd-489badf9010d",
   "metadata": {},
   "outputs": [],
   "source": [
    "kokyaku[\"고객이름\"] = kokyaku[\"고객이름\"].str.replace(\" \", \"\")"
   ]
  },
  {
   "cell_type": "code",
   "execution_count": 16,
   "id": "e78ec487-e42d-4d2d-8217-a89cf8a1b5f7",
   "metadata": {},
   "outputs": [
    {
     "name": "stdout",
     "output_type": "stream",
     "text": [
      "200\n"
     ]
    }
   ],
   "source": [
    "kokyaku[\"고객이름\"].unique()\n",
    "print(kokyaku[\"고객이름\"].unique().size)"
   ]
  },
  {
   "cell_type": "code",
   "execution_count": 17,
   "id": "e41487e1-0ab4-43d6-9de5-f8f7ce475a5d",
   "metadata": {},
   "outputs": [
    {
     "data": {
      "text/plain": [
       "1      42782\n",
       "3      42872\n",
       "4      43127\n",
       "21     42920\n",
       "27     42901\n",
       "47     42741\n",
       "49     42929\n",
       "53     42833\n",
       "76     43188\n",
       "80     43110\n",
       "99     42885\n",
       "114    43254\n",
       "118    43129\n",
       "122    43206\n",
       "139    42880\n",
       "143    42818\n",
       "155    42754\n",
       "172    43181\n",
       "179    42743\n",
       "183    42940\n",
       "186    43294\n",
       "192    43259\n",
       "Name: 등록일, dtype: object"
      ]
     },
     "execution_count": 17,
     "metadata": {},
     "output_type": "execute_result"
    }
   ],
   "source": [
    "kokyaku.loc[kokyaku[\"등록일\"].astype(\"str\").str.isdigit(), \"등록일\"]"
   ]
  },
  {
   "cell_type": "code",
   "execution_count": 29,
   "id": "34134e9d-c272-415b-90d0-4ffcdf6fe977",
   "metadata": {},
   "outputs": [
    {
     "data": {
      "text/plain": [
       "Series([], Name: 등록일, dtype: datetime64[ns])"
      ]
     },
     "execution_count": 29,
     "metadata": {},
     "output_type": "execute_result"
    }
   ],
   "source": [
    "kokyaku.loc[kokyaku[\"등록일\"].astype(\"str\").str.isdigit(), \"등록일\"]"
   ]
  },
  {
   "cell_type": "code",
   "execution_count": 24,
   "id": "cf7283d9-860e-4759-999f-55e6af80c1ae",
   "metadata": {},
   "outputs": [
    {
     "data": {
      "text/html": [
       "<div>\n",
       "<style scoped>\n",
       "    .dataframe tbody tr th:only-of-type {\n",
       "        vertical-align: middle;\n",
       "    }\n",
       "\n",
       "    .dataframe tbody tr th {\n",
       "        vertical-align: top;\n",
       "    }\n",
       "\n",
       "    .dataframe thead th {\n",
       "        text-align: right;\n",
       "    }\n",
       "</style>\n",
       "<table border=\"1\" class=\"dataframe\">\n",
       "  <thead>\n",
       "    <tr style=\"text-align: right;\">\n",
       "      <th></th>\n",
       "      <th>고객이름</th>\n",
       "      <th>지역</th>\n",
       "      <th>등록일</th>\n",
       "    </tr>\n",
       "  </thead>\n",
       "  <tbody>\n",
       "    <tr>\n",
       "      <th>0</th>\n",
       "      <td>김현성</td>\n",
       "      <td>H시</td>\n",
       "      <td>NaT</td>\n",
       "    </tr>\n",
       "    <tr>\n",
       "      <th>1</th>\n",
       "      <td>김도윤</td>\n",
       "      <td>E시</td>\n",
       "      <td>2017-02-18</td>\n",
       "    </tr>\n",
       "    <tr>\n",
       "      <th>2</th>\n",
       "      <td>김지한</td>\n",
       "      <td>A시</td>\n",
       "      <td>NaT</td>\n",
       "    </tr>\n",
       "    <tr>\n",
       "      <th>3</th>\n",
       "      <td>김하윤</td>\n",
       "      <td>F시</td>\n",
       "      <td>2017-05-19</td>\n",
       "    </tr>\n",
       "    <tr>\n",
       "      <th>4</th>\n",
       "      <td>김시온</td>\n",
       "      <td>E시</td>\n",
       "      <td>2018-01-29</td>\n",
       "    </tr>\n",
       "    <tr>\n",
       "      <th>...</th>\n",
       "      <td>...</td>\n",
       "      <td>...</td>\n",
       "      <td>...</td>\n",
       "    </tr>\n",
       "    <tr>\n",
       "      <th>195</th>\n",
       "      <td>김재희</td>\n",
       "      <td>G시</td>\n",
       "      <td>NaT</td>\n",
       "    </tr>\n",
       "    <tr>\n",
       "      <th>196</th>\n",
       "      <td>김도영</td>\n",
       "      <td>E시</td>\n",
       "      <td>NaT</td>\n",
       "    </tr>\n",
       "    <tr>\n",
       "      <th>197</th>\n",
       "      <td>김이안</td>\n",
       "      <td>F시</td>\n",
       "      <td>NaT</td>\n",
       "    </tr>\n",
       "    <tr>\n",
       "      <th>198</th>\n",
       "      <td>김시현</td>\n",
       "      <td>H시</td>\n",
       "      <td>NaT</td>\n",
       "    </tr>\n",
       "    <tr>\n",
       "      <th>199</th>\n",
       "      <td>김서우</td>\n",
       "      <td>D시</td>\n",
       "      <td>NaT</td>\n",
       "    </tr>\n",
       "  </tbody>\n",
       "</table>\n",
       "<p>200 rows × 3 columns</p>\n",
       "</div>"
      ],
      "text/plain": [
       "    고객이름  지역        등록일\n",
       "0    김현성  H시        NaT\n",
       "1    김도윤  E시 2017-02-18\n",
       "2    김지한  A시        NaT\n",
       "3    김하윤  F시 2017-05-19\n",
       "4    김시온  E시 2018-01-29\n",
       "..   ...  ..        ...\n",
       "195  김재희  G시        NaT\n",
       "196  김도영  E시        NaT\n",
       "197  김이안  F시        NaT\n",
       "198  김시현  H시        NaT\n",
       "199  김서우  D시        NaT\n",
       "\n",
       "[200 rows x 3 columns]"
      ]
     },
     "execution_count": 24,
     "metadata": {},
     "output_type": "execute_result"
    }
   ],
   "source": [
    "kokyaku"
   ]
  },
  {
   "cell_type": "code",
   "execution_count": null,
   "id": "a067ab48-987a-43ac-a0bd-3b09a925d07d",
   "metadata": {},
   "outputs": [],
   "source": [
    "kokyaku[\"reg_month\"] = pd.to_datetime(kokyaku[\"등록일\"]).dt.strftime(\"%Y%m\")"
   ]
  },
  {
   "cell_type": "code",
   "execution_count": null,
   "id": "d033b3e4-3987-4d5f-93b1-9c8cb25ebd38",
   "metadata": {},
   "outputs": [],
   "source": [
    "kokyaku"
   ]
  },
  {
   "cell_type": "code",
   "execution_count": null,
   "id": "8db2497a-9067-4027-84b3-b1a097f3953c",
   "metadata": {},
   "outputs": [],
   "source": [
    "kokyaku.isnull().any(axis=0)"
   ]
  },
  {
   "cell_type": "code",
   "execution_count": null,
   "id": "648d3aaa-af7c-4ec8-b586-fc1854544682",
   "metadata": {},
   "outputs": [],
   "source": [
    "kokyaku.groupby(\"reg_month\").count()[\"고객이름\"]"
   ]
  },
  {
   "cell_type": "code",
   "execution_count": null,
   "id": "312bb95f-057d-404b-9e95-fc6e0ac5b4d4",
   "metadata": {},
   "outputs": [],
   "source": [
    "print(uriage.columns)\n",
    "print(kokyaku.columns)"
   ]
  },
  {
   "cell_type": "code",
   "execution_count": null,
   "id": "278cbee0-7117-4585-95a3-1b5bb2c4aa45",
   "metadata": {},
   "outputs": [],
   "source": [
    "new_table = pd.merge(uriage, kokyaku, left_on=\"customer_name\", right_on=\"고객이름\", how=\"left\")\n",
    "new_table.drop(\"고객이름\", axis=1, inplace=True)"
   ]
  },
  {
   "cell_type": "code",
   "execution_count": null,
   "id": "25acee85-fd9e-4325-9ef3-39b958818475",
   "metadata": {},
   "outputs": [],
   "source": [
    "new_table"
   ]
  },
  {
   "cell_type": "code",
   "execution_count": null,
   "id": "89466960-bd63-458c-a59d-a19737768613",
   "metadata": {},
   "outputs": [],
   "source": [
    "data = new_table[[\"purchase_date\", \"purchase_month\", \"item_name\", \"item_price\", \"customer_name\", \"reg_month\", \"지역\"]]"
   ]
  },
  {
   "cell_type": "code",
   "execution_count": null,
   "id": "490bb00b-198a-4949-9196-89eabf83a115",
   "metadata": {},
   "outputs": [],
   "source": [
    "data"
   ]
  },
  {
   "cell_type": "code",
   "execution_count": null,
   "id": "b211bf59-05a1-4c0b-848b-ee3245e54387",
   "metadata": {},
   "outputs": [],
   "source": [
    "data.isnull().any(axis=0)"
   ]
  },
  {
   "cell_type": "code",
   "execution_count": null,
   "id": "ceef4dc3-f48b-4d97-9923-d7442483fa2a",
   "metadata": {},
   "outputs": [],
   "source": []
  }
 ],
 "metadata": {
  "kernelspec": {
   "display_name": "Python 3 (ipykernel)",
   "language": "python",
   "name": "python3"
  },
  "language_info": {
   "codemirror_mode": {
    "name": "ipython",
    "version": 3
   },
   "file_extension": ".py",
   "mimetype": "text/x-python",
   "name": "python",
   "nbconvert_exporter": "python",
   "pygments_lexer": "ipython3",
   "version": "3.12.7"
  }
 },
 "nbformat": 4,
 "nbformat_minor": 5
}
