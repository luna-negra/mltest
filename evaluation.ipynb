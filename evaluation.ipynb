{
 "cells": [
  {
   "cell_type": "markdown",
   "id": "48139e9a-3f90-407d-8ae9-eb9a1911249d",
   "metadata": {},
   "source": [
    "## Evaluation of Prediction Model\n"
   ]
  },
  {
   "cell_type": "code",
   "execution_count": null,
   "id": "60f1b78a-905d-4503-9b3a-f229f8f933f8",
   "metadata": {},
   "outputs": [],
   "source": []
  }
 ],
 "metadata": {
  "kernelspec": {
   "display_name": "Python 3 (ipykernel)",
   "language": "python",
   "name": "python3"
  },
  "language_info": {
   "codemirror_mode": {
    "name": "ipython",
    "version": 3
   },
   "file_extension": ".py",
   "mimetype": "text/x-python",
   "name": "python",
   "nbconvert_exporter": "python",
   "pygments_lexer": "ipython3",
   "version": "3.12.7"
  }
 },
 "nbformat": 4,
 "nbformat_minor": 5
}
